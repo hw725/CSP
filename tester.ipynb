{
 "cells": [
  {
   "cell_type": "code",
   "execution_count": 5,
   "id": "bff59347",
   "metadata": {},
   "outputs": [
    {
     "name": "stdout",
     "output_type": "stream",
     "text": [
      "徐\tNNG,*,F,서,*,*,*,*\n",
      "辟\tSH,*,*,*,*,*,*,*\n",
      "EOS\n",
      "\n",
      "氳\tSH,*,*,*,*,*,*,*\n",
      "氤\tSH,*,*,*,*,*,*,*\n",
      "EOS\n",
      "\n",
      "漢字\tNNG,*,F,한자,*,*,*,*\n",
      "EOS\n",
      "\n",
      "韓\tNNG,*,T,한,*,*,*,*\n",
      "信\tNNG,*,T,신,*,*,*,*\n",
      "EOS\n",
      "\n",
      "한글\tNNG,*,T,한글,*,*,*,*\n",
      "EOS\n",
      "\n"
     ]
    }
   ],
   "source": [
    "print(tagger.parse(\"徐辟\"))\n",
    "print(tagger.parse(\"氳氤\"))\n",
    "print(tagger.parse(\"漢字\"))\n",
    "print(tagger.parse(\"韓信\"))\n",
    "print(tagger.parse(\"한글\"))\n"
   ]
  }
 ],
 "metadata": {
  "kernelspec": {
   "display_name": "Python 3",
   "language": "python",
   "name": "python3"
  },
  "language_info": {
   "codemirror_mode": {
    "name": "ipython",
    "version": 3
   },
   "file_extension": ".py",
   "mimetype": "text/x-python",
   "name": "python",
   "nbconvert_exporter": "python",
   "pygments_lexer": "ipython3",
   "version": "3.10.11"
  }
 },
 "nbformat": 4,
 "nbformat_minor": 5
}
